{
 "cells": [
  {
   "cell_type": "code",
   "execution_count": null,
   "metadata": {},
   "outputs": [],
   "source": [
    "import os\n",
    "import torch\n",
    "import numpy as np\n",
    "import pandas as pd\n",
    "from sklearn.model_selection import train_test_split\n",
    "from sklearn.metrics import classification_report, confusion_matrix\n",
    "from sklearn.metrics import accuracy_score\n",
    "from transformers import DistilBertTokenizer\n",
    "from transformers import DistilBertForSequenceClassification\n",
    "from transformers import TrainingArguments\n",
    "from datasets import Dataset, DatasetDict"
   ]
  },
  {
   "cell_type": "code",
   "execution_count": null,
   "metadata": {},
   "outputs": [],
   "source": [
    "os.chdir('..')\n",
    "from src.utils.get_config import get_config\n",
    "CONFIG_FILE = \"./config/bert_config.yml\"\n",
    "\n",
    "DATA_PATH = get_config(CONFIG_FILE, \"DATA_PATH\")\n",
    "SAVE_MODEL = get_config(CONFIG_FILE, \"SAVE_MODEL\")\n",
    "MODEL = get_config(CONFIG_FILE, \"MODEL\")"
   ]
  },
  {
   "cell_type": "code",
   "execution_count": null,
   "metadata": {},
   "outputs": [],
   "source": [
    "data = pd.read_csv(DATA_PATH)\n",
    "data.head()"
   ]
  },
  {
   "cell_type": "code",
   "execution_count": null,
   "metadata": {},
   "outputs": [],
   "source": [
    "# skiping unnecessary columns\n",
    "columns_to_keep = [\"text\", \"fear\", \"optimism\", \"neutral\"]\n",
    "data = data[columns_to_keep]\n",
    "data.head()"
   ]
  },
  {
   "cell_type": "code",
   "execution_count": null,
   "metadata": {},
   "outputs": [],
   "source": [
    "def get_category(row):\n",
    "    if row['fear'] == 1:\n",
    "        return \"fear\"\n",
    "    elif row['optimism'] == 1:\n",
    "        return \"hope\"\n",
    "    elif row['neutral'] == 1:\n",
    "        return \"neutral\""
   ]
  },
  {
   "cell_type": "code",
   "execution_count": null,
   "metadata": {},
   "outputs": [],
   "source": [
    "data['category'] = data.apply(get_category, axis=1)\n",
    "data = data[['text', 'category']]\n",
    "data.head()"
   ]
  },
  {
   "cell_type": "code",
   "execution_count": null,
   "metadata": {},
   "outputs": [],
   "source": [
    "data.groupby('category')['text'].count()"
   ]
  },
  {
   "cell_type": "code",
   "execution_count": null,
   "metadata": {},
   "outputs": [],
   "source": [
    "label_map = {\"neutral\": 0, \"hope\": 1, \"fear\": 2}\n",
    "data[\"labels\"] = data[\"category\"].map(label_map)\n",
    "\n",
    "temp = data.drop(columns=[\"category\"])\n",
    "\n",
    "train_data, temp_data = train_test_split(temp, test_size=0.2, random_state=42)\n",
    "val_data, test_data = train_test_split(temp_data, test_size=0.5, random_state=42)"
   ]
  },
  {
   "cell_type": "code",
   "execution_count": null,
   "metadata": {},
   "outputs": [],
   "source": [
    "tokenizer = DistilBertTokenizer.from_pretrained(MODEL)\n",
    "\n",
    "dataset_tr = Dataset.from_pandas(train_data)\n",
    "dataset_val = Dataset.from_pandas(val_data)\n",
    "dataset_test = Dataset.from_pandas(test_data)\n",
    "\n",
    "dataset = DatasetDict({\n",
    "    \"train\": dataset_tr,\n",
    "    \"validation\": dataset_val,\n",
    "    \"test\": dataset_test\n",
    "})\n",
    "\n",
    "def preprocess_function(examples):\n",
    "    return tokenizer(examples['text'], padding=\"max_length\", truncation=True)\n",
    "\n",
    "encoded_dataset = dataset.map(preprocess_function, batched=True)\n",
    "\n",
    "print(encoded_dataset['train'][0])"
   ]
  },
  {
   "cell_type": "code",
   "execution_count": null,
   "metadata": {},
   "outputs": [],
   "source": [
    "model = DistilBertForSequenceClassification.from_pretrained(MODEL, num_labels=3)\n",
    "\n",
    "training_args = TrainingArguments(\n",
    "    output_dir=\"./results\",          # Directory for saving results\n",
    "    evaluation_strategy=\"epoch\",     # Evaluate at the end of each epoch\n",
    "    learning_rate=5e-5,              # Initial learning rate\n",
    "    per_device_train_batch_size=16,  # Batch size per GPU\n",
    "    num_train_epochs=1,              # Number of epochs\n",
    "    weight_decay=0.01,               # Regularization\n",
    "    logging_dir=\"./logs/bert_logs\",  # Directory for logs\n",
    "    logging_steps=10                 # Log every 10 steps\n",
    ")"
   ]
  },
  {
   "cell_type": "code",
   "execution_count": null,
   "metadata": {},
   "outputs": [],
   "source": [
    "from transformers import Trainer\n",
    "\n",
    "trainer = Trainer(\n",
    "    model=model,                          # The DistilBERT model\n",
    "    args=training_args,                   # Training arguments\n",
    "    train_dataset=encoded_dataset['train'],  # Training data\n",
    "    eval_dataset=encoded_dataset['validation']  # Validation data\n",
    ")\n",
    "\n",
    "# Start training\n",
    "trainer.train()"
   ]
  },
  {
   "cell_type": "code",
   "execution_count": null,
   "metadata": {},
   "outputs": [],
   "source": [
    "from sklearn.metrics import classification_report\n",
    "import numpy as np\n",
    "\n",
    "# Get predictions\n",
    "predictions = trainer.predict(encoded_dataset['test'])\n",
    "predicted_labels = np.argmax(predictions.predictions, axis=1)\n",
    "true_labels = encoded_dataset['test']['labels']\n",
    "\n",
    "print(classification_report(true_labels, predicted_labels))"
   ]
  },
  {
   "cell_type": "code",
   "execution_count": null,
   "metadata": {},
   "outputs": [],
   "source": [
    "predictions = trainer.predict(encoded_dataset['test'])\n",
    "predicted_labels = np.argmax(predictions.predictions, axis=1)\n",
    "true_labels = encoded_dataset['test']['labels']\n",
    "print(\"Accuracy:\")\n",
    "print(accuracy_score(true_labels, predicted_labels))\n",
    "\n",
    "print(\"\\nClassification Report:\")\n",
    "print(classification_report(true_labels, predicted_labels))\n",
    "\n",
    "cm = confusion_matrix(true_labels, predicted_labels)\n",
    "print(\"\\nConfusion Matrix:\")\n",
    "print(cm)"
   ]
  },
  {
   "cell_type": "code",
   "execution_count": null,
   "metadata": {},
   "outputs": [],
   "source": [
    "model.save_pretrained(SAVE_MODEL)\n",
    "tokenizer.save_pretrained(SAVE_MODEL)"
   ]
  }
 ],
 "metadata": {
  "kernelspec": {
   "display_name": ".venv",
   "language": "python",
   "name": "python3"
  },
  "language_info": {
   "codemirror_mode": {
    "name": "ipython",
    "version": 3
   },
   "file_extension": ".py",
   "mimetype": "text/x-python",
   "name": "python",
   "nbconvert_exporter": "python",
   "pygments_lexer": "ipython3",
   "version": "3.10.0"
  }
 },
 "nbformat": 4,
 "nbformat_minor": 2
}
